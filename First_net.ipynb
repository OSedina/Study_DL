{
  "nbformat": 4,
  "nbformat_minor": 0,
  "metadata": {
    "colab": {
      "provenance": [],
      "collapsed_sections": []
    },
    "kernelspec": {
      "name": "python3",
      "display_name": "Python 3"
    },
    "language_info": {
      "name": "python"
    }
  },
  "cells": [
    {
      "cell_type": "code",
      "execution_count": null,
      "metadata": {
        "id": "ZhKYxF82diMb"
      },
      "outputs": [],
      "source": [
        "import torch\n",
        "import matplotlib.pyplot as plt\n",
        "\n",
        "import matplotlib\n",
        "matplotlib.rcParams['figure.figsize'] = (13.0, 5.0)"
      ]
    },
    {
      "cell_type": "code",
      "source": [
        "def target_function(x):     #  target\n",
        "    return 2**x * torch.sin(2**-x)"
      ],
      "metadata": {
        "id": "PAyFXoe3d86l"
      },
      "execution_count": null,
      "outputs": []
    },
    {
      "cell_type": "code",
      "source": [
        "class RegressionNet(torch.nn.Module):\n",
        "    def __init__(self, n_hidden_neurons):\n",
        "        super(RegressionNet, self).__init__()\n",
        "        self.fc1 = torch.nn.Linear(1, n_hidden_neurons)\n",
        "        self.act1 = torch.nn.Tanh() #  relu, sigmoid, tanh, softmax\n",
        "        self.fc2 = torch.nn.Linear(n_hidden_neurons, 1)\n",
        "\n",
        "    def forward(self, x): # function shows the architecture\n",
        "        x = self.fc1(x)\n",
        "        x = self.act1(x)\n",
        "        x = self.fc2(x)\n",
        "        return x\n",
        "\n",
        "net = RegressionNet(5) # net - our created network, in brackets is the number of neurons"
      ],
      "metadata": {
        "id": "m00EdflieCQV"
      },
      "execution_count": null,
      "outputs": []
    },
    {
      "cell_type": "code",
      "source": [
        "def predict(net, x, y):\n",
        "    y_pred = net.forward(x)\n",
        "\n",
        "    plt.plot(x.numpy(), y.numpy(), 'o', label='Groud truth')\n",
        "    plt.plot(x.numpy(), y_pred.data.numpy(), 'o', c='r', label='Prediction');\n",
        "    plt.legend(loc='upper left')\n",
        "    plt.xlabel('$x$')\n",
        "    plt.ylabel('$y$')"
      ],
      "metadata": {
        "id": "nXUexDZBlr5Y"
      },
      "execution_count": null,
      "outputs": []
    },
    {
      "cell_type": "code",
      "source": [
        "# ------Dataset preparation start--------:\n",
        "x_train =  torch.linspace(-10, 5, 100)\n",
        "y_train = target_function(x_train)"
      ],
      "metadata": {
        "id": "1eqbOtYveCci"
      },
      "execution_count": null,
      "outputs": []
    },
    {
      "cell_type": "code",
      "source": [
        "noise = torch.randn(y_train.shape) / 20.\n",
        "y_train = y_train + noise"
      ],
      "metadata": {
        "id": "HMwjJGDNeCgY"
      },
      "execution_count": null,
      "outputs": []
    },
    {
      "cell_type": "code",
      "source": [
        "x_train.unsqueeze_(1) # resizes the tensor\n",
        "y_train.unsqueeze_(1)"
      ],
      "metadata": {
        "colab": {
          "base_uri": "https://localhost:8080/"
        },
        "id": "i7dYhmR0eCkv",
        "outputId": "24735258-d235-4074-a019-09bbd7db6c3b"
      },
      "execution_count": null,
      "outputs": [
        {
          "output_type": "execute_result",
          "data": {
            "text/plain": [
              "tensor([[-0.0293],\n",
              "        [-0.0210],\n",
              "        [ 0.0494],\n",
              "        [ 0.0667],\n",
              "        [ 0.0598],\n",
              "        [-0.0262],\n",
              "        [-0.0986],\n",
              "        [-0.0198],\n",
              "        [-0.0077],\n",
              "        [-0.0394],\n",
              "        [-0.0086],\n",
              "        [ 0.0448],\n",
              "        [ 0.0189],\n",
              "        [-0.0521],\n",
              "        [ 0.0546],\n",
              "        [-0.0093],\n",
              "        [-0.0068],\n",
              "        [ 0.0255],\n",
              "        [ 0.0704],\n",
              "        [ 0.0789],\n",
              "        [-0.1010],\n",
              "        [-0.0859],\n",
              "        [-0.1119],\n",
              "        [-0.0070],\n",
              "        [-0.0019],\n",
              "        [ 0.0097],\n",
              "        [-0.1272],\n",
              "        [ 0.0329],\n",
              "        [-0.0533],\n",
              "        [-0.0522],\n",
              "        [-0.0870],\n",
              "        [ 0.0570],\n",
              "        [-0.0306],\n",
              "        [-0.0623],\n",
              "        [-0.0315],\n",
              "        [ 0.0929],\n",
              "        [-0.0227],\n",
              "        [-0.0057],\n",
              "        [ 0.0097],\n",
              "        [-0.0776],\n",
              "        [-0.0409],\n",
              "        [ 0.1299],\n",
              "        [-0.0958],\n",
              "        [-0.1162],\n",
              "        [-0.0470],\n",
              "        [ 0.0015],\n",
              "        [ 0.1453],\n",
              "        [ 0.1317],\n",
              "        [ 0.0665],\n",
              "        [-0.0397],\n",
              "        [-0.1484],\n",
              "        [-0.1784],\n",
              "        [-0.2730],\n",
              "        [-0.1617],\n",
              "        [-0.1562],\n",
              "        [ 0.0265],\n",
              "        [ 0.0905],\n",
              "        [ 0.2509],\n",
              "        [ 0.3641],\n",
              "        [ 0.3510],\n",
              "        [ 0.5798],\n",
              "        [ 0.5786],\n",
              "        [ 0.6493],\n",
              "        [ 0.7003],\n",
              "        [ 0.7334],\n",
              "        [ 0.8332],\n",
              "        [ 0.8383],\n",
              "        [ 0.8822],\n",
              "        [ 0.9178],\n",
              "        [ 0.9179],\n",
              "        [ 0.9004],\n",
              "        [ 0.9247],\n",
              "        [ 0.9887],\n",
              "        [ 0.9013],\n",
              "        [ 0.9940],\n",
              "        [ 0.9678],\n",
              "        [ 0.9126],\n",
              "        [ 0.9632],\n",
              "        [ 0.9927],\n",
              "        [ 0.9871],\n",
              "        [ 0.9191],\n",
              "        [ 0.9911],\n",
              "        [ 0.9801],\n",
              "        [ 1.0161],\n",
              "        [ 0.9417],\n",
              "        [ 0.9981],\n",
              "        [ 1.0315],\n",
              "        [ 0.9690],\n",
              "        [ 0.9555],\n",
              "        [ 0.9525],\n",
              "        [ 1.0600],\n",
              "        [ 1.0783],\n",
              "        [ 0.9872],\n",
              "        [ 0.9181],\n",
              "        [ 1.0557],\n",
              "        [ 0.9769],\n",
              "        [ 0.9856],\n",
              "        [ 0.9304],\n",
              "        [ 1.0073],\n",
              "        [ 0.9913]])"
            ]
          },
          "metadata": {},
          "execution_count": 105
        }
      ]
    },
    {
      "cell_type": "code",
      "source": [
        "x_validation = torch.linspace(-10, 5, 100)\n",
        "y_validation = target_function(x_validation)"
      ],
      "metadata": {
        "id": "tm0lJUTAhKu4"
      },
      "execution_count": null,
      "outputs": []
    },
    {
      "cell_type": "code",
      "source": [
        "x_validation.unsqueeze_(1)\n",
        "y_validation.unsqueeze_(1)\n",
        "# ------Dataset preparation end--------:"
      ],
      "metadata": {
        "colab": {
          "base_uri": "https://localhost:8080/"
        },
        "id": "H91V8o1JhKzR",
        "outputId": "627274c1-8a88-4c0a-c7ae-673430b44ad4"
      },
      "execution_count": null,
      "outputs": [
        {
          "output_type": "execute_result",
          "data": {
            "text/plain": [
              "tensor([[-1.5482e-04],\n",
              "        [-1.0732e-03],\n",
              "        [ 7.0097e-04],\n",
              "        [-5.7608e-04],\n",
              "        [ 6.5311e-04],\n",
              "        [ 9.8906e-04],\n",
              "        [-1.7836e-03],\n",
              "        [ 1.5283e-03],\n",
              "        [ 1.8686e-03],\n",
              "        [ 2.1850e-03],\n",
              "        [ 3.2003e-04],\n",
              "        [ 2.6802e-03],\n",
              "        [ 3.3656e-03],\n",
              "        [-2.4106e-03],\n",
              "        [ 1.0479e-03],\n",
              "        [-4.6642e-03],\n",
              "        [ 3.9665e-03],\n",
              "        [ 4.9868e-03],\n",
              "        [-4.1531e-03],\n",
              "        [ 6.0007e-03],\n",
              "        [-2.5418e-03],\n",
              "        [-2.2237e-03],\n",
              "        [ 8.5996e-03],\n",
              "        [-3.8417e-03],\n",
              "        [ 7.4946e-03],\n",
              "        [-1.2848e-02],\n",
              "        [-1.0455e-02],\n",
              "        [-6.5003e-03],\n",
              "        [-1.1817e-02],\n",
              "        [-2.0529e-02],\n",
              "        [-2.9806e-03],\n",
              "        [ 2.4776e-02],\n",
              "        [-2.3459e-02],\n",
              "        [ 1.7232e-02],\n",
              "        [-1.7709e-02],\n",
              "        [ 2.7786e-02],\n",
              "        [-4.1880e-02],\n",
              "        [ 3.9170e-02],\n",
              "        [ 4.1222e-03],\n",
              "        [-5.7028e-02],\n",
              "        [ 2.3339e-02],\n",
              "        [ 6.8612e-02],\n",
              "        [-1.0514e-02],\n",
              "        [-8.7542e-02],\n",
              "        [-6.0404e-02],\n",
              "        [ 3.7816e-02],\n",
              "        [ 1.1635e-01],\n",
              "        [ 1.1940e-01],\n",
              "        [ 5.0195e-02],\n",
              "        [-5.2978e-02],\n",
              "        [-1.4774e-01],\n",
              "        [-2.0545e-01],\n",
              "        [-2.1497e-01],\n",
              "        [-1.7869e-01],\n",
              "        [-1.0644e-01],\n",
              "        [-1.0458e-02],\n",
              "        [ 9.7796e-02],\n",
              "        [ 2.0913e-01],\n",
              "        [ 3.1700e-01],\n",
              "        [ 4.1724e-01],\n",
              "        [ 5.0761e-01],\n",
              "        [ 5.8725e-01],\n",
              "        [ 6.5621e-01],\n",
              "        [ 7.1513e-01],\n",
              "        [ 7.6494e-01],\n",
              "        [ 8.0670e-01],\n",
              "        [ 8.4147e-01],\n",
              "        [ 8.7028e-01],\n",
              "        [ 8.9404e-01],\n",
              "        [ 9.1358e-01],\n",
              "        [ 9.2960e-01],\n",
              "        [ 9.4270e-01],\n",
              "        [ 9.5340e-01],\n",
              "        [ 9.6213e-01],\n",
              "        [ 9.6924e-01],\n",
              "        [ 9.7502e-01],\n",
              "        [ 9.7972e-01],\n",
              "        [ 9.8355e-01],\n",
              "        [ 9.8665e-01],\n",
              "        [ 9.8917e-01],\n",
              "        [ 9.9122e-01],\n",
              "        [ 9.9288e-01],\n",
              "        [ 9.9422e-01],\n",
              "        [ 9.9532e-01],\n",
              "        [ 9.9620e-01],\n",
              "        [ 9.9692e-01],\n",
              "        [ 9.9750e-01],\n",
              "        [ 9.9798e-01],\n",
              "        [ 9.9836e-01],\n",
              "        [ 9.9867e-01],\n",
              "        [ 9.9892e-01],\n",
              "        [ 9.9913e-01],\n",
              "        [ 9.9929e-01],\n",
              "        [ 9.9943e-01],\n",
              "        [ 9.9953e-01],\n",
              "        [ 9.9962e-01],\n",
              "        [ 9.9969e-01],\n",
              "        [ 9.9975e-01],\n",
              "        [ 9.9980e-01],\n",
              "        [ 9.9984e-01]])"
            ]
          },
          "metadata": {},
          "execution_count": 107
        }
      ]
    },
    {
      "cell_type": "code",
      "source": [
        "optimizer = torch.optim.Adam(net.parameters(), lr=0.1) \n",
        "# optimizer is object that performs gradient descent steps, in our case Adam,\n",
        "# net.parameters() parameters that we want to optimize\n"
      ],
      "metadata": {
        "id": "tMCRvhbghK3Y"
      },
      "execution_count": null,
      "outputs": []
    },
    {
      "cell_type": "code",
      "source": [
        "def loss(pred, target):    # loss function\n",
        "    squares = (pred - target) ** 2\n",
        "    return squares.mean()"
      ],
      "metadata": {
        "id": "KlD-5bTWkNxM"
      },
      "execution_count": null,
      "outputs": []
    },
    {
      "cell_type": "code",
      "source": [
        "for epoch_index in range(665):\n",
        "    optimizer.zero_grad() # reset gradients from the previous step\n",
        "    y_pred = net.forward(x_train)\n",
        "    loss_val = loss(y_pred, y_train)\n",
        "\n",
        "    loss_val.backward()\n",
        "\n",
        "    optimizer.step()\n",
        "\n",
        "predict(net, x_validation, y_validation)"
      ],
      "metadata": {
        "colab": {
          "base_uri": "https://localhost:8080/",
          "height": 334
        },
        "id": "eQRXU8cVmG3C",
        "outputId": "10743bd9-7e56-4137-bdce-7c6871090beb"
      },
      "execution_count": null,
      "outputs": [
        {
          "output_type": "display_data",
          "data": {
            "text/plain": [
              "<Figure size 936x360 with 1 Axes>"
            ],
            "image/png": "[encoded data removed]"
          },
          "metadata": {
            "needs_background": "light"
          }
        }
      ]
    },
    {
      "cell_type": "code",
      "source": [
        "def metric(pred, target):\n",
        "  return (pred - target).abs().mean()\n",
        "print(metric(net.forward(x_validation), y_validation).item())"
      ],
      "metadata": {
        "colab": {
          "base_uri": "https://localhost:8080/"
        },
        "id": "8D-HnwKnm6Ig",
        "outputId": "bc0f8ea5-3daf-42f4-c907-3f9ee2fec82d"
      },
      "execution_count": null,
      "outputs": [
        {
          "output_type": "stream",
          "name": "stdout",
          "text": [
            "0.01838657446205616\n"
          ]
        }
      ]
    },
    {
      "cell_type": "code",
      "source": [],
      "metadata": {
        "id": "hslFwvGelcO_"
      },
      "execution_count": null,
      "outputs": []
    },
    {
      "cell_type": "code",
      "source": [],
      "metadata": {
        "id": "dsgvo_cUlnjm"
      },
      "execution_count": null,
      "outputs": []
    },
    {
      "cell_type": "code",
      "source": [],
      "metadata": {
        "id": "8sWr-oDNlg4E"
      },
      "execution_count": null,
      "outputs": []
    }
  ]
}